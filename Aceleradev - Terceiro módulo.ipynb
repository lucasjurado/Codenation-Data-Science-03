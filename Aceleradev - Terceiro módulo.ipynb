{
 "cells": [
  {
   "cell_type": "markdown",
   "metadata": {
    "toc": true
   },
   "source": [
    "<h1>Table of Contents<span class=\"tocSkip\"></span></h1>\n",
    "<div class=\"toc\"><ul class=\"toc-item\"><li><span><a href=\"#Paraná-(PR)\" data-toc-modified-id=\"Paraná-(PR)-1\"><span class=\"toc-item-num\">1&nbsp;&nbsp;</span>Paraná (PR)</a></span></li><li><span><a href=\"#Santa-Catarina-(SC)\" data-toc-modified-id=\"Santa-Catarina-(SC)-2\"><span class=\"toc-item-num\">2&nbsp;&nbsp;</span>Santa Catarina (SC)</a></span></li><li><span><a href=\"#Rio-Grande-do-Sul-(RS)\" data-toc-modified-id=\"Rio-Grande-do-Sul-(RS)-3\"><span class=\"toc-item-num\">3&nbsp;&nbsp;</span>Rio Grande do Sul (RS)</a></span></li><li><span><a href=\"#Resposta\" data-toc-modified-id=\"Resposta-4\"><span class=\"toc-item-num\">4&nbsp;&nbsp;</span>Resposta</a></span></li></ul></div>"
   ]
  },
  {
   "cell_type": "code",
   "execution_count": 1,
   "metadata": {},
   "outputs": [],
   "source": [
    "import pandas as pd"
   ]
  },
  {
   "cell_type": "code",
   "execution_count": 2,
   "metadata": {},
   "outputs": [],
   "source": [
    "df = pd.read_csv('desafio1.csv')"
   ]
  },
  {
   "cell_type": "code",
   "execution_count": 3,
   "metadata": {},
   "outputs": [
    {
     "data": {
      "text/html": [
       "<div>\n",
       "<style scoped>\n",
       "    .dataframe tbody tr th:only-of-type {\n",
       "        vertical-align: middle;\n",
       "    }\n",
       "\n",
       "    .dataframe tbody tr th {\n",
       "        vertical-align: top;\n",
       "    }\n",
       "\n",
       "    .dataframe thead th {\n",
       "        text-align: right;\n",
       "    }\n",
       "</style>\n",
       "<table border=\"1\" class=\"dataframe\">\n",
       "  <thead>\n",
       "    <tr style=\"text-align: right;\">\n",
       "      <th></th>\n",
       "      <th>RowNumber</th>\n",
       "      <th>id</th>\n",
       "      <th>sobrenome</th>\n",
       "      <th>pontuacao_credito</th>\n",
       "      <th>estado_residencia</th>\n",
       "      <th>genero</th>\n",
       "      <th>idade</th>\n",
       "      <th>nivel_estabilidade</th>\n",
       "      <th>saldo_conta</th>\n",
       "      <th>numero_produtos</th>\n",
       "      <th>possui_cartao_de_credito</th>\n",
       "      <th>membro_ativo</th>\n",
       "    </tr>\n",
       "  </thead>\n",
       "  <tbody>\n",
       "    <tr>\n",
       "      <th>0</th>\n",
       "      <td>1</td>\n",
       "      <td>e7f44fcbd380d4cef7e6c232cc7e37895c3fd197</td>\n",
       "      <td>6d6e0aa1b9b413e442e2fb68df14b4fc3f91de50</td>\n",
       "      <td>619</td>\n",
       "      <td>SC</td>\n",
       "      <td>F</td>\n",
       "      <td>42</td>\n",
       "      <td>2</td>\n",
       "      <td>0.00</td>\n",
       "      <td>1</td>\n",
       "      <td>1</td>\n",
       "      <td>1</td>\n",
       "    </tr>\n",
       "    <tr>\n",
       "      <th>1</th>\n",
       "      <td>2</td>\n",
       "      <td>28dcb083ad90512da16b9430085c2cddb8ca5e12</td>\n",
       "      <td>48e1ad846796fa314f1b4a6702b83343eb5482c5</td>\n",
       "      <td>608</td>\n",
       "      <td>RS</td>\n",
       "      <td>F</td>\n",
       "      <td>41</td>\n",
       "      <td>1</td>\n",
       "      <td>83807.86</td>\n",
       "      <td>1</td>\n",
       "      <td>0</td>\n",
       "      <td>1</td>\n",
       "    </tr>\n",
       "    <tr>\n",
       "      <th>2</th>\n",
       "      <td>3</td>\n",
       "      <td>774bc378f787438c9c7594e536787d07a097a54b</td>\n",
       "      <td>f2b29d5d934de615812b697132e767dea0f1e9e2</td>\n",
       "      <td>502</td>\n",
       "      <td>SC</td>\n",
       "      <td>F</td>\n",
       "      <td>42</td>\n",
       "      <td>8</td>\n",
       "      <td>159660.80</td>\n",
       "      <td>3</td>\n",
       "      <td>1</td>\n",
       "      <td>0</td>\n",
       "    </tr>\n",
       "    <tr>\n",
       "      <th>3</th>\n",
       "      <td>4</td>\n",
       "      <td>043a71326f7096de155e7f0c559dc62b5e4b7239</td>\n",
       "      <td>85d5c9da7cddd8109ad32a6c348fe2bb10bf99f2</td>\n",
       "      <td>699</td>\n",
       "      <td>SC</td>\n",
       "      <td>F</td>\n",
       "      <td>39</td>\n",
       "      <td>1</td>\n",
       "      <td>0.00</td>\n",
       "      <td>2</td>\n",
       "      <td>0</td>\n",
       "      <td>0</td>\n",
       "    </tr>\n",
       "    <tr>\n",
       "      <th>4</th>\n",
       "      <td>5</td>\n",
       "      <td>37b3bb8ca243955fb3605ec7e1c2a4607cdb3b22</td>\n",
       "      <td>ddc89c837a6933639de75f28171057060bd322df</td>\n",
       "      <td>850</td>\n",
       "      <td>RS</td>\n",
       "      <td>F</td>\n",
       "      <td>43</td>\n",
       "      <td>2</td>\n",
       "      <td>125510.82</td>\n",
       "      <td>1</td>\n",
       "      <td>1</td>\n",
       "      <td>1</td>\n",
       "    </tr>\n",
       "    <tr>\n",
       "      <th>...</th>\n",
       "      <td>...</td>\n",
       "      <td>...</td>\n",
       "      <td>...</td>\n",
       "      <td>...</td>\n",
       "      <td>...</td>\n",
       "      <td>...</td>\n",
       "      <td>...</td>\n",
       "      <td>...</td>\n",
       "      <td>...</td>\n",
       "      <td>...</td>\n",
       "      <td>...</td>\n",
       "      <td>...</td>\n",
       "    </tr>\n",
       "    <tr>\n",
       "      <th>6995</th>\n",
       "      <td>6996</td>\n",
       "      <td>3e607c788c09d6e1f99cc50575e471fee41a322a</td>\n",
       "      <td>ef547badb8b0801d06a93155cc052341c749d1c0</td>\n",
       "      <td>633</td>\n",
       "      <td>SC</td>\n",
       "      <td>F</td>\n",
       "      <td>32</td>\n",
       "      <td>1</td>\n",
       "      <td>104001.38</td>\n",
       "      <td>1</td>\n",
       "      <td>0</td>\n",
       "      <td>1</td>\n",
       "    </tr>\n",
       "    <tr>\n",
       "      <th>6996</th>\n",
       "      <td>6997</td>\n",
       "      <td>2afdb40334e1bef3451f3db02b12c255c7a9ff57</td>\n",
       "      <td>e3eb2eea41a60b08392da20a49543d05ac484255</td>\n",
       "      <td>623</td>\n",
       "      <td>RS</td>\n",
       "      <td>F</td>\n",
       "      <td>50</td>\n",
       "      <td>2</td>\n",
       "      <td>87116.71</td>\n",
       "      <td>1</td>\n",
       "      <td>1</td>\n",
       "      <td>1</td>\n",
       "    </tr>\n",
       "    <tr>\n",
       "      <th>6997</th>\n",
       "      <td>6998</td>\n",
       "      <td>6a0589e36c12f95a8d3678b460519ed654fe0a3e</td>\n",
       "      <td>e65e12a7eb4e0b15e6d3afb127ce38c0a5303188</td>\n",
       "      <td>611</td>\n",
       "      <td>SC</td>\n",
       "      <td>M</td>\n",
       "      <td>68</td>\n",
       "      <td>5</td>\n",
       "      <td>82547.11</td>\n",
       "      <td>2</td>\n",
       "      <td>1</td>\n",
       "      <td>1</td>\n",
       "    </tr>\n",
       "    <tr>\n",
       "      <th>6998</th>\n",
       "      <td>6999</td>\n",
       "      <td>c042de909a1fb157765c84c3278d8e6500807367</td>\n",
       "      <td>a52bbf77611eab47a6eff8641a1a9bd01006acbe</td>\n",
       "      <td>666</td>\n",
       "      <td>RS</td>\n",
       "      <td>F</td>\n",
       "      <td>47</td>\n",
       "      <td>5</td>\n",
       "      <td>0.00</td>\n",
       "      <td>1</td>\n",
       "      <td>0</td>\n",
       "      <td>0</td>\n",
       "    </tr>\n",
       "    <tr>\n",
       "      <th>6999</th>\n",
       "      <td>7000</td>\n",
       "      <td>cdce83890ea1d7b64b2caaaea76f499cb5dfe684</td>\n",
       "      <td>2265b3657cc5e97382dc46819e3937c363fe165e</td>\n",
       "      <td>521</td>\n",
       "      <td>SC</td>\n",
       "      <td>M</td>\n",
       "      <td>27</td>\n",
       "      <td>4</td>\n",
       "      <td>121325.84</td>\n",
       "      <td>1</td>\n",
       "      <td>1</td>\n",
       "      <td>1</td>\n",
       "    </tr>\n",
       "  </tbody>\n",
       "</table>\n",
       "<p>7000 rows × 12 columns</p>\n",
       "</div>"
      ],
      "text/plain": [
       "      RowNumber                                        id  \\\n",
       "0             1  e7f44fcbd380d4cef7e6c232cc7e37895c3fd197   \n",
       "1             2  28dcb083ad90512da16b9430085c2cddb8ca5e12   \n",
       "2             3  774bc378f787438c9c7594e536787d07a097a54b   \n",
       "3             4  043a71326f7096de155e7f0c559dc62b5e4b7239   \n",
       "4             5  37b3bb8ca243955fb3605ec7e1c2a4607cdb3b22   \n",
       "...         ...                                       ...   \n",
       "6995       6996  3e607c788c09d6e1f99cc50575e471fee41a322a   \n",
       "6996       6997  2afdb40334e1bef3451f3db02b12c255c7a9ff57   \n",
       "6997       6998  6a0589e36c12f95a8d3678b460519ed654fe0a3e   \n",
       "6998       6999  c042de909a1fb157765c84c3278d8e6500807367   \n",
       "6999       7000  cdce83890ea1d7b64b2caaaea76f499cb5dfe684   \n",
       "\n",
       "                                     sobrenome  pontuacao_credito  \\\n",
       "0     6d6e0aa1b9b413e442e2fb68df14b4fc3f91de50                619   \n",
       "1     48e1ad846796fa314f1b4a6702b83343eb5482c5                608   \n",
       "2     f2b29d5d934de615812b697132e767dea0f1e9e2                502   \n",
       "3     85d5c9da7cddd8109ad32a6c348fe2bb10bf99f2                699   \n",
       "4     ddc89c837a6933639de75f28171057060bd322df                850   \n",
       "...                                        ...                ...   \n",
       "6995  ef547badb8b0801d06a93155cc052341c749d1c0                633   \n",
       "6996  e3eb2eea41a60b08392da20a49543d05ac484255                623   \n",
       "6997  e65e12a7eb4e0b15e6d3afb127ce38c0a5303188                611   \n",
       "6998  a52bbf77611eab47a6eff8641a1a9bd01006acbe                666   \n",
       "6999  2265b3657cc5e97382dc46819e3937c363fe165e                521   \n",
       "\n",
       "     estado_residencia genero  idade  nivel_estabilidade  saldo_conta  \\\n",
       "0                   SC      F     42                   2         0.00   \n",
       "1                   RS      F     41                   1     83807.86   \n",
       "2                   SC      F     42                   8    159660.80   \n",
       "3                   SC      F     39                   1         0.00   \n",
       "4                   RS      F     43                   2    125510.82   \n",
       "...                ...    ...    ...                 ...          ...   \n",
       "6995                SC      F     32                   1    104001.38   \n",
       "6996                RS      F     50                   2     87116.71   \n",
       "6997                SC      M     68                   5     82547.11   \n",
       "6998                RS      F     47                   5         0.00   \n",
       "6999                SC      M     27                   4    121325.84   \n",
       "\n",
       "      numero_produtos  possui_cartao_de_credito  membro_ativo  \n",
       "0                   1                         1             1  \n",
       "1                   1                         0             1  \n",
       "2                   3                         1             0  \n",
       "3                   2                         0             0  \n",
       "4                   1                         1             1  \n",
       "...               ...                       ...           ...  \n",
       "6995                1                         0             1  \n",
       "6996                1                         1             1  \n",
       "6997                2                         1             1  \n",
       "6998                1                         0             0  \n",
       "6999                1                         1             1  \n",
       "\n",
       "[7000 rows x 12 columns]"
      ]
     },
     "execution_count": 3,
     "metadata": {},
     "output_type": "execute_result"
    }
   ],
   "source": [
    "df"
   ]
  },
  {
   "cell_type": "code",
   "execution_count": 73,
   "metadata": {},
   "outputs": [
    {
     "data": {
      "text/plain": [
       "SC    3519\n",
       "RS    1750\n",
       "PR    1731\n",
       "Name: estado_residencia, dtype: int64"
      ]
     },
     "execution_count": 73,
     "metadata": {},
     "output_type": "execute_result"
    }
   ],
   "source": [
    "df['estado_residencia'].value_counts()"
   ]
  },
  {
   "cell_type": "markdown",
   "metadata": {},
   "source": [
    "# Paraná (PR)"
   ]
  },
  {
   "cell_type": "code",
   "execution_count": 74,
   "metadata": {},
   "outputs": [
    {
     "data": {
      "text/html": [
       "<div>\n",
       "<style scoped>\n",
       "    .dataframe tbody tr th:only-of-type {\n",
       "        vertical-align: middle;\n",
       "    }\n",
       "\n",
       "    .dataframe tbody tr th {\n",
       "        vertical-align: top;\n",
       "    }\n",
       "\n",
       "    .dataframe thead th {\n",
       "        text-align: right;\n",
       "    }\n",
       "</style>\n",
       "<table border=\"1\" class=\"dataframe\">\n",
       "  <thead>\n",
       "    <tr style=\"text-align: right;\">\n",
       "      <th></th>\n",
       "      <th>RowNumber</th>\n",
       "      <th>id</th>\n",
       "      <th>sobrenome</th>\n",
       "      <th>pontuacao_credito</th>\n",
       "      <th>estado_residencia</th>\n",
       "      <th>genero</th>\n",
       "      <th>idade</th>\n",
       "      <th>nivel_estabilidade</th>\n",
       "      <th>saldo_conta</th>\n",
       "      <th>numero_produtos</th>\n",
       "      <th>possui_cartao_de_credito</th>\n",
       "      <th>membro_ativo</th>\n",
       "    </tr>\n",
       "  </thead>\n",
       "  <tbody>\n",
       "    <tr>\n",
       "      <th>7</th>\n",
       "      <td>8</td>\n",
       "      <td>6704b822c203e2dda9f225dfc4f1bed2ae9044e6</td>\n",
       "      <td>336b42483e6a17f48eb040a251b5d6e64d1351a9</td>\n",
       "      <td>376</td>\n",
       "      <td>PR</td>\n",
       "      <td>F</td>\n",
       "      <td>29</td>\n",
       "      <td>4</td>\n",
       "      <td>115046.74</td>\n",
       "      <td>4</td>\n",
       "      <td>1</td>\n",
       "      <td>0</td>\n",
       "    </tr>\n",
       "    <tr>\n",
       "      <th>15</th>\n",
       "      <td>16</td>\n",
       "      <td>04a488f5afe23bc8e0bc2dab36b7ef31a2175465</td>\n",
       "      <td>ae50d67a10a428f042478724f8696faad69c16e7</td>\n",
       "      <td>616</td>\n",
       "      <td>PR</td>\n",
       "      <td>M</td>\n",
       "      <td>45</td>\n",
       "      <td>3</td>\n",
       "      <td>143129.41</td>\n",
       "      <td>2</td>\n",
       "      <td>0</td>\n",
       "      <td>1</td>\n",
       "    </tr>\n",
       "    <tr>\n",
       "      <th>16</th>\n",
       "      <td>17</td>\n",
       "      <td>5970b1f277e0c09c2fbdf5c0b2961e286d1eee8a</td>\n",
       "      <td>b7e8d8eaaffa2e0990b222ca486b9c2426c2cd7e</td>\n",
       "      <td>653</td>\n",
       "      <td>PR</td>\n",
       "      <td>M</td>\n",
       "      <td>58</td>\n",
       "      <td>1</td>\n",
       "      <td>132602.88</td>\n",
       "      <td>1</td>\n",
       "      <td>1</td>\n",
       "      <td>0</td>\n",
       "    </tr>\n",
       "    <tr>\n",
       "      <th>26</th>\n",
       "      <td>27</td>\n",
       "      <td>93f9d14870d4e1f4b406e822aeda2522034e36a7</td>\n",
       "      <td>190ad954707e053c18af1de13a140cb70a6ff58c</td>\n",
       "      <td>756</td>\n",
       "      <td>PR</td>\n",
       "      <td>M</td>\n",
       "      <td>36</td>\n",
       "      <td>2</td>\n",
       "      <td>136815.64</td>\n",
       "      <td>1</td>\n",
       "      <td>1</td>\n",
       "      <td>1</td>\n",
       "    </tr>\n",
       "    <tr>\n",
       "      <th>28</th>\n",
       "      <td>29</td>\n",
       "      <td>29696d097f5af397971553e03af3d72544a2de43</td>\n",
       "      <td>bb0562f482fc937e49bca1fbce8619797d02a123</td>\n",
       "      <td>574</td>\n",
       "      <td>PR</td>\n",
       "      <td>F</td>\n",
       "      <td>43</td>\n",
       "      <td>3</td>\n",
       "      <td>141349.43</td>\n",
       "      <td>1</td>\n",
       "      <td>1</td>\n",
       "      <td>1</td>\n",
       "    </tr>\n",
       "  </tbody>\n",
       "</table>\n",
       "</div>"
      ],
      "text/plain": [
       "    RowNumber                                        id  \\\n",
       "7           8  6704b822c203e2dda9f225dfc4f1bed2ae9044e6   \n",
       "15         16  04a488f5afe23bc8e0bc2dab36b7ef31a2175465   \n",
       "16         17  5970b1f277e0c09c2fbdf5c0b2961e286d1eee8a   \n",
       "26         27  93f9d14870d4e1f4b406e822aeda2522034e36a7   \n",
       "28         29  29696d097f5af397971553e03af3d72544a2de43   \n",
       "\n",
       "                                   sobrenome  pontuacao_credito  \\\n",
       "7   336b42483e6a17f48eb040a251b5d6e64d1351a9                376   \n",
       "15  ae50d67a10a428f042478724f8696faad69c16e7                616   \n",
       "16  b7e8d8eaaffa2e0990b222ca486b9c2426c2cd7e                653   \n",
       "26  190ad954707e053c18af1de13a140cb70a6ff58c                756   \n",
       "28  bb0562f482fc937e49bca1fbce8619797d02a123                574   \n",
       "\n",
       "   estado_residencia genero  idade  nivel_estabilidade  saldo_conta  \\\n",
       "7                 PR      F     29                   4    115046.74   \n",
       "15                PR      M     45                   3    143129.41   \n",
       "16                PR      M     58                   1    132602.88   \n",
       "26                PR      M     36                   2    136815.64   \n",
       "28                PR      F     43                   3    141349.43   \n",
       "\n",
       "    numero_produtos  possui_cartao_de_credito  membro_ativo  \n",
       "7                 4                         1             0  \n",
       "15                2                         0             1  \n",
       "16                1                         1             0  \n",
       "26                1                         1             1  \n",
       "28                1                         1             1  "
      ]
     },
     "execution_count": 74,
     "metadata": {},
     "output_type": "execute_result"
    }
   ],
   "source": [
    "pr = df.query('estado_residencia==\"PR\"')\n",
    "pr.head()"
   ]
  },
  {
   "cell_type": "code",
   "execution_count": 75,
   "metadata": {},
   "outputs": [
    {
     "data": {
      "text/plain": [
       "648.9612940496822"
      ]
     },
     "execution_count": 75,
     "metadata": {},
     "output_type": "execute_result"
    }
   ],
   "source": [
    "pr_media = pr.pontuacao_credito.mean()\n",
    "pr_media"
   ]
  },
  {
   "cell_type": "code",
   "execution_count": 76,
   "metadata": {},
   "outputs": [
    {
     "data": {
      "text/plain": [
       "650.0"
      ]
     },
     "execution_count": 76,
     "metadata": {},
     "output_type": "execute_result"
    }
   ],
   "source": [
    "pr_mediana = pr.pontuacao_credito.median()\n",
    "pr_mediana"
   ]
  },
  {
   "cell_type": "code",
   "execution_count": 77,
   "metadata": {},
   "outputs": [
    {
     "data": {
      "text/plain": [
       "850"
      ]
     },
     "execution_count": 77,
     "metadata": {},
     "output_type": "execute_result"
    }
   ],
   "source": [
    "pr_moda = pr.pontuacao_credito.mode()\n",
    "pr_moda[0]"
   ]
  },
  {
   "cell_type": "code",
   "execution_count": 78,
   "metadata": {},
   "outputs": [
    {
     "data": {
      "text/plain": [
       "98.60718591309758"
      ]
     },
     "execution_count": 78,
     "metadata": {},
     "output_type": "execute_result"
    }
   ],
   "source": [
    "pr_std = pr.pontuacao_credito.std()\n",
    "pr_std"
   ]
  },
  {
   "cell_type": "markdown",
   "metadata": {},
   "source": [
    "# Santa Catarina (SC)"
   ]
  },
  {
   "cell_type": "code",
   "execution_count": 79,
   "metadata": {},
   "outputs": [
    {
     "data": {
      "text/html": [
       "<div>\n",
       "<style scoped>\n",
       "    .dataframe tbody tr th:only-of-type {\n",
       "        vertical-align: middle;\n",
       "    }\n",
       "\n",
       "    .dataframe tbody tr th {\n",
       "        vertical-align: top;\n",
       "    }\n",
       "\n",
       "    .dataframe thead th {\n",
       "        text-align: right;\n",
       "    }\n",
       "</style>\n",
       "<table border=\"1\" class=\"dataframe\">\n",
       "  <thead>\n",
       "    <tr style=\"text-align: right;\">\n",
       "      <th></th>\n",
       "      <th>RowNumber</th>\n",
       "      <th>id</th>\n",
       "      <th>sobrenome</th>\n",
       "      <th>pontuacao_credito</th>\n",
       "      <th>estado_residencia</th>\n",
       "      <th>genero</th>\n",
       "      <th>idade</th>\n",
       "      <th>nivel_estabilidade</th>\n",
       "      <th>saldo_conta</th>\n",
       "      <th>numero_produtos</th>\n",
       "      <th>possui_cartao_de_credito</th>\n",
       "      <th>membro_ativo</th>\n",
       "    </tr>\n",
       "  </thead>\n",
       "  <tbody>\n",
       "    <tr>\n",
       "      <th>0</th>\n",
       "      <td>1</td>\n",
       "      <td>e7f44fcbd380d4cef7e6c232cc7e37895c3fd197</td>\n",
       "      <td>6d6e0aa1b9b413e442e2fb68df14b4fc3f91de50</td>\n",
       "      <td>619</td>\n",
       "      <td>SC</td>\n",
       "      <td>F</td>\n",
       "      <td>42</td>\n",
       "      <td>2</td>\n",
       "      <td>0.00</td>\n",
       "      <td>1</td>\n",
       "      <td>1</td>\n",
       "      <td>1</td>\n",
       "    </tr>\n",
       "    <tr>\n",
       "      <th>2</th>\n",
       "      <td>3</td>\n",
       "      <td>774bc378f787438c9c7594e536787d07a097a54b</td>\n",
       "      <td>f2b29d5d934de615812b697132e767dea0f1e9e2</td>\n",
       "      <td>502</td>\n",
       "      <td>SC</td>\n",
       "      <td>F</td>\n",
       "      <td>42</td>\n",
       "      <td>8</td>\n",
       "      <td>159660.80</td>\n",
       "      <td>3</td>\n",
       "      <td>1</td>\n",
       "      <td>0</td>\n",
       "    </tr>\n",
       "    <tr>\n",
       "      <th>3</th>\n",
       "      <td>4</td>\n",
       "      <td>043a71326f7096de155e7f0c559dc62b5e4b7239</td>\n",
       "      <td>85d5c9da7cddd8109ad32a6c348fe2bb10bf99f2</td>\n",
       "      <td>699</td>\n",
       "      <td>SC</td>\n",
       "      <td>F</td>\n",
       "      <td>39</td>\n",
       "      <td>1</td>\n",
       "      <td>0.00</td>\n",
       "      <td>2</td>\n",
       "      <td>0</td>\n",
       "      <td>0</td>\n",
       "    </tr>\n",
       "    <tr>\n",
       "      <th>6</th>\n",
       "      <td>7</td>\n",
       "      <td>8f3cc64a0a84bab38fefb030f09757d0cbf03bb2</td>\n",
       "      <td>abec3e525ab40e45975c91d4fa2bc7b318d93de4</td>\n",
       "      <td>822</td>\n",
       "      <td>SC</td>\n",
       "      <td>M</td>\n",
       "      <td>50</td>\n",
       "      <td>7</td>\n",
       "      <td>0.00</td>\n",
       "      <td>2</td>\n",
       "      <td>1</td>\n",
       "      <td>1</td>\n",
       "    </tr>\n",
       "    <tr>\n",
       "      <th>8</th>\n",
       "      <td>9</td>\n",
       "      <td>35f41954a87f722a3960e5fa8ce898a09398a564</td>\n",
       "      <td>53a417796c777851003b3f2431e8eef5625ec15b</td>\n",
       "      <td>501</td>\n",
       "      <td>SC</td>\n",
       "      <td>M</td>\n",
       "      <td>44</td>\n",
       "      <td>4</td>\n",
       "      <td>142051.07</td>\n",
       "      <td>2</td>\n",
       "      <td>0</td>\n",
       "      <td>1</td>\n",
       "    </tr>\n",
       "  </tbody>\n",
       "</table>\n",
       "</div>"
      ],
      "text/plain": [
       "   RowNumber                                        id  \\\n",
       "0          1  e7f44fcbd380d4cef7e6c232cc7e37895c3fd197   \n",
       "2          3  774bc378f787438c9c7594e536787d07a097a54b   \n",
       "3          4  043a71326f7096de155e7f0c559dc62b5e4b7239   \n",
       "6          7  8f3cc64a0a84bab38fefb030f09757d0cbf03bb2   \n",
       "8          9  35f41954a87f722a3960e5fa8ce898a09398a564   \n",
       "\n",
       "                                  sobrenome  pontuacao_credito  \\\n",
       "0  6d6e0aa1b9b413e442e2fb68df14b4fc3f91de50                619   \n",
       "2  f2b29d5d934de615812b697132e767dea0f1e9e2                502   \n",
       "3  85d5c9da7cddd8109ad32a6c348fe2bb10bf99f2                699   \n",
       "6  abec3e525ab40e45975c91d4fa2bc7b318d93de4                822   \n",
       "8  53a417796c777851003b3f2431e8eef5625ec15b                501   \n",
       "\n",
       "  estado_residencia genero  idade  nivel_estabilidade  saldo_conta  \\\n",
       "0                SC      F     42                   2         0.00   \n",
       "2                SC      F     42                   8    159660.80   \n",
       "3                SC      F     39                   1         0.00   \n",
       "6                SC      M     50                   7         0.00   \n",
       "8                SC      M     44                   4    142051.07   \n",
       "\n",
       "   numero_produtos  possui_cartao_de_credito  membro_ativo  \n",
       "0                1                         1             1  \n",
       "2                3                         1             0  \n",
       "3                2                         0             0  \n",
       "6                2                         1             1  \n",
       "8                2                         0             1  "
      ]
     },
     "execution_count": 79,
     "metadata": {},
     "output_type": "execute_result"
    }
   ],
   "source": [
    "sc = df.query('estado_residencia==\"SC\"')\n",
    "sc.head()"
   ]
  },
  {
   "cell_type": "code",
   "execution_count": 80,
   "metadata": {},
   "outputs": [
    {
     "data": {
      "text/plain": [
       "count    3519.000000\n",
       "mean      649.537653\n",
       "std        97.233493\n",
       "min       359.000000\n",
       "25%       581.000000\n",
       "50%       653.000000\n",
       "75%       717.000000\n",
       "max       850.000000\n",
       "Name: pontuacao_credito, dtype: float64"
      ]
     },
     "execution_count": 80,
     "metadata": {},
     "output_type": "execute_result"
    }
   ],
   "source": [
    "sc.pontuacao_credito.describe()"
   ]
  },
  {
   "cell_type": "code",
   "execution_count": 81,
   "metadata": {},
   "outputs": [
    {
     "data": {
      "text/plain": [
       "649.5376527422563"
      ]
     },
     "execution_count": 81,
     "metadata": {},
     "output_type": "execute_result"
    }
   ],
   "source": [
    "sc_media = sc.pontuacao_credito.describe()[1]\n",
    "sc_media"
   ]
  },
  {
   "cell_type": "code",
   "execution_count": 82,
   "metadata": {},
   "outputs": [
    {
     "data": {
      "text/plain": [
       "653.0"
      ]
     },
     "execution_count": 82,
     "metadata": {},
     "output_type": "execute_result"
    }
   ],
   "source": [
    "sc_mediana = sc.pontuacao_credito.describe()[5]\n",
    "sc_mediana"
   ]
  },
  {
   "cell_type": "code",
   "execution_count": 83,
   "metadata": {},
   "outputs": [
    {
     "data": {
      "text/plain": [
       "0    850\n",
       "dtype: int64"
      ]
     },
     "execution_count": 83,
     "metadata": {},
     "output_type": "execute_result"
    }
   ],
   "source": [
    "sc_moda = sc.pontuacao_credito.mode()\n",
    "sc_moda"
   ]
  },
  {
   "cell_type": "code",
   "execution_count": 84,
   "metadata": {},
   "outputs": [
    {
     "data": {
      "text/plain": [
       "97.233492793433"
      ]
     },
     "execution_count": 84,
     "metadata": {},
     "output_type": "execute_result"
    }
   ],
   "source": [
    "sc_std = sc.pontuacao_credito.describe()[2]\n",
    "sc_std"
   ]
  },
  {
   "cell_type": "markdown",
   "metadata": {},
   "source": [
    "# Rio Grande do Sul (RS)"
   ]
  },
  {
   "cell_type": "code",
   "execution_count": 85,
   "metadata": {},
   "outputs": [
    {
     "data": {
      "text/html": [
       "<div>\n",
       "<style scoped>\n",
       "    .dataframe tbody tr th:only-of-type {\n",
       "        vertical-align: middle;\n",
       "    }\n",
       "\n",
       "    .dataframe tbody tr th {\n",
       "        vertical-align: top;\n",
       "    }\n",
       "\n",
       "    .dataframe thead th {\n",
       "        text-align: right;\n",
       "    }\n",
       "</style>\n",
       "<table border=\"1\" class=\"dataframe\">\n",
       "  <thead>\n",
       "    <tr style=\"text-align: right;\">\n",
       "      <th></th>\n",
       "      <th>RowNumber</th>\n",
       "      <th>id</th>\n",
       "      <th>sobrenome</th>\n",
       "      <th>pontuacao_credito</th>\n",
       "      <th>estado_residencia</th>\n",
       "      <th>genero</th>\n",
       "      <th>idade</th>\n",
       "      <th>nivel_estabilidade</th>\n",
       "      <th>saldo_conta</th>\n",
       "      <th>numero_produtos</th>\n",
       "      <th>possui_cartao_de_credito</th>\n",
       "      <th>membro_ativo</th>\n",
       "    </tr>\n",
       "  </thead>\n",
       "  <tbody>\n",
       "    <tr>\n",
       "      <th>1</th>\n",
       "      <td>2</td>\n",
       "      <td>28dcb083ad90512da16b9430085c2cddb8ca5e12</td>\n",
       "      <td>48e1ad846796fa314f1b4a6702b83343eb5482c5</td>\n",
       "      <td>608</td>\n",
       "      <td>RS</td>\n",
       "      <td>F</td>\n",
       "      <td>41</td>\n",
       "      <td>1</td>\n",
       "      <td>83807.86</td>\n",
       "      <td>1</td>\n",
       "      <td>0</td>\n",
       "      <td>1</td>\n",
       "    </tr>\n",
       "    <tr>\n",
       "      <th>4</th>\n",
       "      <td>5</td>\n",
       "      <td>37b3bb8ca243955fb3605ec7e1c2a4607cdb3b22</td>\n",
       "      <td>ddc89c837a6933639de75f28171057060bd322df</td>\n",
       "      <td>850</td>\n",
       "      <td>RS</td>\n",
       "      <td>F</td>\n",
       "      <td>43</td>\n",
       "      <td>2</td>\n",
       "      <td>125510.82</td>\n",
       "      <td>1</td>\n",
       "      <td>1</td>\n",
       "      <td>1</td>\n",
       "    </tr>\n",
       "    <tr>\n",
       "      <th>5</th>\n",
       "      <td>6</td>\n",
       "      <td>db5cf32c3fbc7c5d8f8313afca1d099de6dc055f</td>\n",
       "      <td>a596384ca70664af4c5fac9f935cff186b8e8bc0</td>\n",
       "      <td>645</td>\n",
       "      <td>RS</td>\n",
       "      <td>M</td>\n",
       "      <td>44</td>\n",
       "      <td>8</td>\n",
       "      <td>113755.78</td>\n",
       "      <td>2</td>\n",
       "      <td>1</td>\n",
       "      <td>0</td>\n",
       "    </tr>\n",
       "    <tr>\n",
       "      <th>11</th>\n",
       "      <td>12</td>\n",
       "      <td>727d2911ca645148ecb222005c5f4f8ccf72b4d6</td>\n",
       "      <td>a1009913e51c3c11ef2e88eda344ec5befa13fd4</td>\n",
       "      <td>497</td>\n",
       "      <td>RS</td>\n",
       "      <td>M</td>\n",
       "      <td>24</td>\n",
       "      <td>3</td>\n",
       "      <td>0.00</td>\n",
       "      <td>2</td>\n",
       "      <td>1</td>\n",
       "      <td>0</td>\n",
       "    </tr>\n",
       "    <tr>\n",
       "      <th>14</th>\n",
       "      <td>15</td>\n",
       "      <td>4f883154a84d3fda402e17686bfe212558f7f15e</td>\n",
       "      <td>2ad0c93dcf651c0afe5e5aa7a8778f7c3ec5769e</td>\n",
       "      <td>635</td>\n",
       "      <td>RS</td>\n",
       "      <td>F</td>\n",
       "      <td>35</td>\n",
       "      <td>7</td>\n",
       "      <td>0.00</td>\n",
       "      <td>2</td>\n",
       "      <td>1</td>\n",
       "      <td>1</td>\n",
       "    </tr>\n",
       "  </tbody>\n",
       "</table>\n",
       "</div>"
      ],
      "text/plain": [
       "    RowNumber                                        id  \\\n",
       "1           2  28dcb083ad90512da16b9430085c2cddb8ca5e12   \n",
       "4           5  37b3bb8ca243955fb3605ec7e1c2a4607cdb3b22   \n",
       "5           6  db5cf32c3fbc7c5d8f8313afca1d099de6dc055f   \n",
       "11         12  727d2911ca645148ecb222005c5f4f8ccf72b4d6   \n",
       "14         15  4f883154a84d3fda402e17686bfe212558f7f15e   \n",
       "\n",
       "                                   sobrenome  pontuacao_credito  \\\n",
       "1   48e1ad846796fa314f1b4a6702b83343eb5482c5                608   \n",
       "4   ddc89c837a6933639de75f28171057060bd322df                850   \n",
       "5   a596384ca70664af4c5fac9f935cff186b8e8bc0                645   \n",
       "11  a1009913e51c3c11ef2e88eda344ec5befa13fd4                497   \n",
       "14  2ad0c93dcf651c0afe5e5aa7a8778f7c3ec5769e                635   \n",
       "\n",
       "   estado_residencia genero  idade  nivel_estabilidade  saldo_conta  \\\n",
       "1                 RS      F     41                   1     83807.86   \n",
       "4                 RS      F     43                   2    125510.82   \n",
       "5                 RS      M     44                   8    113755.78   \n",
       "11                RS      M     24                   3         0.00   \n",
       "14                RS      F     35                   7         0.00   \n",
       "\n",
       "    numero_produtos  possui_cartao_de_credito  membro_ativo  \n",
       "1                 1                         0             1  \n",
       "4                 1                         1             1  \n",
       "5                 2                         1             0  \n",
       "11                2                         1             0  \n",
       "14                2                         1             1  "
      ]
     },
     "execution_count": 85,
     "metadata": {},
     "output_type": "execute_result"
    }
   ],
   "source": [
    "rs = df.query('estado_residencia==\"RS\"')\n",
    "rs.head()"
   ]
  },
  {
   "cell_type": "code",
   "execution_count": 86,
   "metadata": {},
   "outputs": [
    {
     "data": {
      "text/plain": [
       "count    1750.000000\n",
       "mean      651.105143\n",
       "std        95.136598\n",
       "min       350.000000\n",
       "25%       585.000000\n",
       "50%       650.000000\n",
       "75%       717.000000\n",
       "max       850.000000\n",
       "Name: pontuacao_credito, dtype: float64"
      ]
     },
     "execution_count": 86,
     "metadata": {},
     "output_type": "execute_result"
    }
   ],
   "source": [
    "rs.pontuacao_credito.describe()"
   ]
  },
  {
   "cell_type": "code",
   "execution_count": 88,
   "metadata": {},
   "outputs": [
    {
     "data": {
      "text/plain": [
       "651.1051428571428"
      ]
     },
     "execution_count": 88,
     "metadata": {},
     "output_type": "execute_result"
    }
   ],
   "source": [
    "rs_media = rs.pontuacao_credito.describe()[1]\n",
    "rs_media"
   ]
  },
  {
   "cell_type": "code",
   "execution_count": 89,
   "metadata": {},
   "outputs": [
    {
     "data": {
      "text/plain": [
       "650.0"
      ]
     },
     "execution_count": 89,
     "metadata": {},
     "output_type": "execute_result"
    }
   ],
   "source": [
    "rs_mediana = rs.pontuacao_credito.describe()[5]\n",
    "rs_mediana"
   ]
  },
  {
   "cell_type": "code",
   "execution_count": 90,
   "metadata": {},
   "outputs": [
    {
     "data": {
      "text/plain": [
       "0    850\n",
       "dtype: int64"
      ]
     },
     "execution_count": 90,
     "metadata": {},
     "output_type": "execute_result"
    }
   ],
   "source": [
    "rs_moda = rs.pontuacao_credito.mode()\n",
    "rs_moda"
   ]
  },
  {
   "cell_type": "code",
   "execution_count": 91,
   "metadata": {},
   "outputs": [
    {
     "data": {
      "text/plain": [
       "95.13659841383574"
      ]
     },
     "execution_count": 91,
     "metadata": {},
     "output_type": "execute_result"
    }
   ],
   "source": [
    "rs_std = rs.pontuacao_credito.describe()[2]\n",
    "rs_std"
   ]
  },
  {
   "cell_type": "markdown",
   "metadata": {},
   "source": [
    "# Resposta"
   ]
  },
  {
   "cell_type": "code",
   "execution_count": 92,
   "metadata": {},
   "outputs": [],
   "source": [
    "resp = {\"SC\": {\"moda\": sc_moda[0], \"mediana\": sc_mediana, \"media\": sc_media, \"desvio_padrao\": sc_std}, \"RS\": {\"moda\": rs_moda[0], \"mediana\": rs_mediana, \"media\": rs_media, \"desvio_padrao\": rs_std}, \"PR\": {\"moda\": pr_moda[0], \"mediana\": pr_mediana, \"media\": pr_media, \"desvio_padrao\": pr_std}}"
   ]
  },
  {
   "cell_type": "code",
   "execution_count": 96,
   "metadata": {},
   "outputs": [
    {
     "data": {
      "text/html": [
       "<div>\n",
       "<style scoped>\n",
       "    .dataframe tbody tr th:only-of-type {\n",
       "        vertical-align: middle;\n",
       "    }\n",
       "\n",
       "    .dataframe tbody tr th {\n",
       "        vertical-align: top;\n",
       "    }\n",
       "\n",
       "    .dataframe thead th {\n",
       "        text-align: right;\n",
       "    }\n",
       "</style>\n",
       "<table border=\"1\" class=\"dataframe\">\n",
       "  <thead>\n",
       "    <tr style=\"text-align: right;\">\n",
       "      <th></th>\n",
       "      <th>SC</th>\n",
       "      <th>RS</th>\n",
       "      <th>PR</th>\n",
       "    </tr>\n",
       "  </thead>\n",
       "  <tbody>\n",
       "    <tr>\n",
       "      <th>moda</th>\n",
       "      <td>850.000000</td>\n",
       "      <td>850.000000</td>\n",
       "      <td>850.000000</td>\n",
       "    </tr>\n",
       "    <tr>\n",
       "      <th>mediana</th>\n",
       "      <td>653.000000</td>\n",
       "      <td>650.000000</td>\n",
       "      <td>650.000000</td>\n",
       "    </tr>\n",
       "    <tr>\n",
       "      <th>media</th>\n",
       "      <td>649.537653</td>\n",
       "      <td>651.105143</td>\n",
       "      <td>648.961294</td>\n",
       "    </tr>\n",
       "    <tr>\n",
       "      <th>desvio_padrao</th>\n",
       "      <td>97.233493</td>\n",
       "      <td>95.136598</td>\n",
       "      <td>98.607186</td>\n",
       "    </tr>\n",
       "  </tbody>\n",
       "</table>\n",
       "</div>"
      ],
      "text/plain": [
       "                       SC          RS          PR\n",
       "moda           850.000000  850.000000  850.000000\n",
       "mediana        653.000000  650.000000  650.000000\n",
       "media          649.537653  651.105143  648.961294\n",
       "desvio_padrao   97.233493   95.136598   98.607186"
      ]
     },
     "execution_count": 96,
     "metadata": {},
     "output_type": "execute_result"
    }
   ],
   "source": [
    "df_resp = pd.DataFrame(resp)\n",
    "df_resp"
   ]
  },
  {
   "cell_type": "code",
   "execution_count": 97,
   "metadata": {},
   "outputs": [],
   "source": [
    "df_resp.to_json('submission.json')"
   ]
  }
 ],
 "metadata": {
  "kernelspec": {
   "display_name": "Python 3",
   "language": "python",
   "name": "python3"
  },
  "language_info": {
   "codemirror_mode": {
    "name": "ipython",
    "version": 3
   },
   "file_extension": ".py",
   "mimetype": "text/x-python",
   "name": "python",
   "nbconvert_exporter": "python",
   "pygments_lexer": "ipython3",
   "version": "3.8.3"
  },
  "toc": {
   "base_numbering": 1,
   "nav_menu": {},
   "number_sections": true,
   "sideBar": true,
   "skip_h1_title": false,
   "title_cell": "Table of Contents",
   "title_sidebar": "Contents",
   "toc_cell": true,
   "toc_position": {},
   "toc_section_display": true,
   "toc_window_display": false
  }
 },
 "nbformat": 4,
 "nbformat_minor": 4
}
